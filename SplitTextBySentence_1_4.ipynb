{
 "cells": [
  {
   "cell_type": "code",
   "execution_count": 9,
   "id": "a3c1f0a5",
   "metadata": {
    "scrolled": true
   },
   "outputs": [],
   "source": [
    "# !pip install python-docx"
   ]
  },
  {
   "cell_type": "code",
   "execution_count": 1,
   "id": "f20caddc",
   "metadata": {},
   "outputs": [
    {
     "name": "stderr",
     "output_type": "stream",
     "text": [
      "C:\\Users\\Profit77\\.conda\\envs\\RAGTemplate\\lib\\site-packages\\sentence_transformers\\cross_encoder\\CrossEncoder.py:11: TqdmExperimentalWarning: Using `tqdm.autonotebook.tqdm` in notebook mode. Use `tqdm.tqdm` instead to force console mode (e.g. in jupyter console)\n",
      "  from tqdm.autonotebook import tqdm, trange\n"
     ]
    }
   ],
   "source": [
    "import docx\n",
    "import numpy as np\n",
    "from sklearn.metrics.pairwise import cosine_similarity\n",
    "from sentence_transformers import SentenceTransformer#, util\n",
    "import glob\n",
    "import os\n",
    "import ast\n",
    "import pandas as pd\n",
    "import re\n",
    "\n",
    "from tqdm.auto import tqdm\n",
    "from llama_cpp import Llama"
   ]
  },
  {
   "cell_type": "code",
   "execution_count": 11,
   "id": "43b188a6",
   "metadata": {},
   "outputs": [],
   "source": [
    "PATH = './'\n",
    "# PATH_DATASETS = PATH + 'datasets/train Atom/train data/'\n",
    "HMI_PATH_DATASETS = PATH + 'datasets/train Atom/train data/HMI/'\n",
    "SSTS_PATH_DATASETS = PATH + 'datasets/train Atom/train data/SSTS/'"
   ]
  },
  {
   "cell_type": "markdown",
   "id": "49d5b3af",
   "metadata": {},
   "source": [
    "### Загружаем данные о документах, формируем массив по абзацам/параграфам"
   ]
  },
  {
   "cell_type": "code",
   "execution_count": 12,
   "id": "5bb43daa",
   "metadata": {},
   "outputs": [
    {
     "data": {
      "text/plain": [
       "(12, 11)"
      ]
     },
     "execution_count": 12,
     "metadata": {},
     "output_type": "execute_result"
    }
   ],
   "source": [
    "hmi_files = glob.glob(HMI_PATH_DATASETS + \"/*.docx\")\n",
    "ssts_files = glob.glob(SSTS_PATH_DATASETS + \"/*.docx\")\n",
    "\n",
    "# Перечень номеров файлов которые существуют\n",
    "ssts_filenumbers = list(map(lambda x: os.path.basename(x).split('-')[-1].split('.')[0], ssts_files))\n",
    "hmi_filenumbers = list(map(lambda x: os.path.basename(x).split('-')[-1].split('.')[0], hmi_files))\n",
    "\n",
    "len(hmi_files), len(ssts_files)"
   ]
  },
  {
   "cell_type": "code",
   "execution_count": 13,
   "id": "e19d664e-e4ea-4aa0-b278-ad61cf6c6cad",
   "metadata": {},
   "outputs": [
    {
     "name": "stderr",
     "output_type": "stream",
     "text": [
      "llama_model_loader: loaded meta data with 22 key-value pairs and 291 tensors from D:/_Projects/Hack_AI_Atom/ggml-model-Q4_K_M.gguf (version GGUF V3 (latest))\n",
      "llama_model_loader: Dumping metadata keys/values. Note: KV overrides do not apply in this output.\n",
      "llama_model_loader: - kv   0:                       general.architecture str              = llama\n",
      "llama_model_loader: - kv   1:                               general.name str              = a8977699a3d0820e80129fb3c93c20fbd9972c41\n",
      "llama_model_loader: - kv   2:                          llama.block_count u32              = 32\n",
      "llama_model_loader: - kv   3:                       llama.context_length u32              = 8192\n",
      "llama_model_loader: - kv   4:                     llama.embedding_length u32              = 4096\n",
      "llama_model_loader: - kv   5:                  llama.feed_forward_length u32              = 14336\n",
      "llama_model_loader: - kv   6:                 llama.attention.head_count u32              = 32\n",
      "llama_model_loader: - kv   7:              llama.attention.head_count_kv u32              = 8\n",
      "llama_model_loader: - kv   8:                       llama.rope.freq_base f32              = 500000.000000\n",
      "llama_model_loader: - kv   9:     llama.attention.layer_norm_rms_epsilon f32              = 0.000010\n",
      "llama_model_loader: - kv  10:                          general.file_type u32              = 15\n",
      "llama_model_loader: - kv  11:                           llama.vocab_size u32              = 128256\n",
      "llama_model_loader: - kv  12:                 llama.rope.dimension_count u32              = 128\n",
      "llama_model_loader: - kv  13:                       tokenizer.ggml.model str              = gpt2\n",
      "llama_model_loader: - kv  14:                         tokenizer.ggml.pre str              = llama-bpe\n",
      "llama_model_loader: - kv  15:                      tokenizer.ggml.tokens arr[str,128256]  = [\"!\", \"\\\"\", \"#\", \"$\", \"%\", \"&\", \"'\", ...\n",
      "llama_model_loader: - kv  16:                  tokenizer.ggml.token_type arr[i32,128256]  = [1, 1, 1, 1, 1, 1, 1, 1, 1, 1, 1, 1, ...\n",
      "llama_model_loader: - kv  17:                      tokenizer.ggml.merges arr[str,280147]  = [\"Ġ Ġ\", \"Ġ ĠĠĠ\", \"ĠĠ ĠĠ\", \"...\n",
      "llama_model_loader: - kv  18:                tokenizer.ggml.bos_token_id u32              = 128000\n",
      "llama_model_loader: - kv  19:                tokenizer.ggml.eos_token_id u32              = 128009\n",
      "llama_model_loader: - kv  20:                    tokenizer.chat_template str              = {% set loop_messages = messages %}{% ...\n",
      "llama_model_loader: - kv  21:               general.quantization_version u32              = 2\n",
      "llama_model_loader: - type  f32:   65 tensors\n",
      "llama_model_loader: - type q4_K:  193 tensors\n",
      "llama_model_loader: - type q6_K:   33 tensors\n",
      "llm_load_vocab: special tokens cache size = 256\n",
      "llm_load_vocab: token to piece cache size = 0.8000 MB\n",
      "llm_load_print_meta: format           = GGUF V3 (latest)\n",
      "llm_load_print_meta: arch             = llama\n",
      "llm_load_print_meta: vocab type       = BPE\n",
      "llm_load_print_meta: n_vocab          = 128256\n",
      "llm_load_print_meta: n_merges         = 280147\n",
      "llm_load_print_meta: vocab_only       = 0\n",
      "llm_load_print_meta: n_ctx_train      = 8192\n",
      "llm_load_print_meta: n_embd           = 4096\n",
      "llm_load_print_meta: n_layer          = 32\n",
      "llm_load_print_meta: n_head           = 32\n",
      "llm_load_print_meta: n_head_kv        = 8\n",
      "llm_load_print_meta: n_rot            = 128\n",
      "llm_load_print_meta: n_swa            = 0\n",
      "llm_load_print_meta: n_embd_head_k    = 128\n",
      "llm_load_print_meta: n_embd_head_v    = 128\n",
      "llm_load_print_meta: n_gqa            = 4\n",
      "llm_load_print_meta: n_embd_k_gqa     = 1024\n",
      "llm_load_print_meta: n_embd_v_gqa     = 1024\n",
      "llm_load_print_meta: f_norm_eps       = 0.0e+00\n",
      "llm_load_print_meta: f_norm_rms_eps   = 1.0e-05\n",
      "llm_load_print_meta: f_clamp_kqv      = 0.0e+00\n",
      "llm_load_print_meta: f_max_alibi_bias = 0.0e+00\n",
      "llm_load_print_meta: f_logit_scale    = 0.0e+00\n",
      "llm_load_print_meta: n_ff             = 14336\n",
      "llm_load_print_meta: n_expert         = 0\n",
      "llm_load_print_meta: n_expert_used    = 0\n",
      "llm_load_print_meta: causal attn      = 1\n",
      "llm_load_print_meta: pooling type     = 0\n",
      "llm_load_print_meta: rope type        = 0\n",
      "llm_load_print_meta: rope scaling     = linear\n",
      "llm_load_print_meta: freq_base_train  = 500000.0\n",
      "llm_load_print_meta: freq_scale_train = 1\n",
      "llm_load_print_meta: n_ctx_orig_yarn  = 8192\n",
      "llm_load_print_meta: rope_finetuned   = unknown\n",
      "llm_load_print_meta: ssm_d_conv       = 0\n",
      "llm_load_print_meta: ssm_d_inner      = 0\n",
      "llm_load_print_meta: ssm_d_state      = 0\n",
      "llm_load_print_meta: ssm_dt_rank      = 0\n",
      "llm_load_print_meta: ssm_dt_b_c_rms   = 0\n",
      "llm_load_print_meta: model type       = 8B\n",
      "llm_load_print_meta: model ftype      = Q4_K - Medium\n",
      "llm_load_print_meta: model params     = 8.03 B\n",
      "llm_load_print_meta: model size       = 4.58 GiB (4.89 BPW) \n",
      "llm_load_print_meta: general.name     = a8977699a3d0820e80129fb3c93c20fbd9972c41\n",
      "llm_load_print_meta: BOS token        = 128000 '<|begin_of_text|>'\n",
      "llm_load_print_meta: EOS token        = 128009 '<|eot_id|>'\n",
      "llm_load_print_meta: LF token         = 128 'Ä'\n",
      "llm_load_print_meta: EOT token        = 128009 '<|eot_id|>'\n",
      "llm_load_print_meta: EOG token        = 128009 '<|eot_id|>'\n",
      "llm_load_print_meta: max token length = 256\n",
      "llm_load_tensors: ggml ctx size =    0.14 MiB\n",
      "llm_load_tensors:        CPU buffer size =  4685.30 MiB\n",
      "........................................................................................\n",
      "llama_new_context_with_model: n_ctx      = 512\n",
      "llama_new_context_with_model: n_batch    = 512\n",
      "llama_new_context_with_model: n_ubatch   = 512\n",
      "llama_new_context_with_model: flash_attn = 0\n",
      "llama_new_context_with_model: freq_base  = 500000.0\n",
      "llama_new_context_with_model: freq_scale = 1\n",
      "llama_kv_cache_init:        CPU KV buffer size =    64.00 MiB\n",
      "llama_new_context_with_model: KV self size  =   64.00 MiB, K (f16):   32.00 MiB, V (f16):   32.00 MiB\n",
      "llama_new_context_with_model:        CPU  output buffer size =     0.49 MiB\n",
      "llama_new_context_with_model:        CPU compute buffer size =   258.50 MiB\n",
      "llama_new_context_with_model: graph nodes  = 1030\n",
      "llama_new_context_with_model: graph splits = 1\n"
     ]
    },
    {
     "name": "stdout",
     "output_type": "stream",
     "text": [
      "CPU times: total: 922 ms\n",
      "Wall time: 900 ms\n"
     ]
    },
    {
     "name": "stderr",
     "output_type": "stream",
     "text": [
      "AVX = 1 | AVX_VNNI = 0 | AVX2 = 1 | AVX512 = 0 | AVX512_VBMI = 0 | AVX512_VNNI = 0 | AVX512_BF16 = 0 | FMA = 1 | NEON = 0 | SVE = 0 | ARM_FMA = 0 | F16C = 1 | FP16_VA = 0 | RISCV_VECT = 0 | WASM_SIMD = 0 | BLAS = 0 | SSE3 = 1 | SSSE3 = 1 | VSX = 0 | MATMUL_INT8 = 0 | LLAMAFILE = 1 | \n",
      "Model metadata: {'general.name': 'a8977699a3d0820e80129fb3c93c20fbd9972c41', 'general.architecture': 'llama', 'llama.block_count': '32', 'llama.context_length': '8192', 'tokenizer.ggml.eos_token_id': '128009', 'general.file_type': '15', 'llama.attention.head_count_kv': '8', 'llama.embedding_length': '4096', 'llama.feed_forward_length': '14336', 'llama.attention.head_count': '32', 'llama.rope.freq_base': '500000.000000', 'llama.attention.layer_norm_rms_epsilon': '0.000010', 'llama.vocab_size': '128256', 'llama.rope.dimension_count': '128', 'tokenizer.ggml.model': 'gpt2', 'tokenizer.ggml.pre': 'llama-bpe', 'general.quantization_version': '2', 'tokenizer.ggml.bos_token_id': '128000', 'tokenizer.chat_template': \"{% set loop_messages = messages %}{% for message in loop_messages %}{% set content = '<|start_header_id|>' + message['role'] + '<|end_header_id|>\\n\\n'+ message['content'] | trim + '<|eot_id|>' %}{% if loop.index0 == 0 %}{% set content = bos_token + content %}{% endif %}{{ content }}{% endfor %}{% if add_generation_prompt %}{{ '<|start_header_id|>assistant<|end_header_id|>\\n\\n' }}{% endif %}\"}\n",
      "Available chat formats from metadata: chat_template.default\n",
      "Guessed chat format: llama-3\n"
     ]
    },
    {
     "data": {
      "text/plain": [
       "<llama_cpp.llama.Llama at 0x20bc8837490>"
      ]
     },
     "execution_count": 13,
     "metadata": {},
     "output_type": "execute_result"
    }
   ],
   "source": [
    "%%time\n",
    "# Загружаем LLM модель\n",
    "llm_path = \"D:/_Projects/Hack_AI_Atom/ggml-model-Q4_K_M.gguf\"\n",
    "llm_model = Llama(model_path=llm_path)\n",
    "llm_model"
   ]
  },
  {
   "cell_type": "code",
   "execution_count": 23,
   "id": "e2cb9458",
   "metadata": {},
   "outputs": [
    {
     "name": "stdout",
     "output_type": "stream",
     "text": [
      "CPU times: total: 1.92 s\n",
      "Wall time: 3.93 s\n"
     ]
    }
   ],
   "source": [
    "%%time\n",
    "# Загружаем модель для формиарования эмбеддингов\n",
    "embedding_model = SentenceTransformer('intfloat/multilingual-e5-large')"
   ]
  },
  {
   "cell_type": "code",
   "execution_count": 78,
   "id": "a32202eb",
   "metadata": {},
   "outputs": [],
   "source": [
    "# Получаем текст из ворда разбитый на параграфы\n",
    "def get_texts(docx):\n",
    "    doc_paragraphs = []\n",
    "    all_paras = docx.paragraphs\n",
    "    for para in all_paras:\n",
    "        parag_text = para.text.strip()\n",
    "        if parag_text != \"\":\n",
    "            doc_paragraphs.append(parag_text)\n",
    "    return doc_paragraphs"
   ]
  },
  {
   "cell_type": "code",
   "execution_count": 228,
   "id": "c2b81268",
   "metadata": {
    "scrolled": true
   },
   "outputs": [],
   "source": [
    "## Формируем массив выделенных разделов\n",
    "##  parag_text_HMI - массив параграфов всего текста ТЗ Закзчика HMI\n",
    "##  doc_HMI_parts - массив выделенных разделов ТЗ Закзчика HMI\n",
    "##  parag_text_SSTS - массив параграфов всего текста предложений Исполнителя SSTS\n",
    "##  doc_SSTS_parts - массив выделенных разделов предложений Исполнителя SSTS\n",
    "\n",
    "def get_similary_by_doc(model, parag_text, chapters, threshold=0.9):\n",
    "    # Кодируем документ в эмбеддинг\n",
    "    embeddings = model.encode(parag_text, convert_to_tensor=True)\n",
    "    embeddings_chapters = model.encode(chapters, convert_to_tensor=True)\n",
    "    similarity_chapters = cosine_similarity(embeddings.detach().cpu(), embeddings_chapters.detach().cpu())\n",
    "    # Получаем отсортированные списки найденных разделов\n",
    "    find_index_similarity = np.argwhere(similarity_chapters >= threshold)\n",
    "\n",
    "    # Формируем массив разделов документов с требованиями\n",
    "    doc_parts = []\n",
    "    for i in range(len(find_index_similarity)):\n",
    "        chapt_id = find_index_similarity[i][1]\n",
    "        start_doc_id = find_index_similarity[i][0]\n",
    "        if i == len(find_index_similarity) - 1:\n",
    "            end_doc_id = len(parag_text)\n",
    "        else:\n",
    "            end_doc_id = find_index_similarity[i+1][0]\n",
    "        doc_parts.append({chapters[chapt_id]: parag_text[start_doc_id:end_doc_id]})\n",
    "    return doc_parts\n",
    "\n",
    "    \n",
    "chapters_SSTS = ['Functional Description', 'Enabling conditions', 'Trigger conditions', 'Execution output', 'Exit conditions', 'Notes', 'Basic event flow', 'Optional event flow',]\n",
    "\n",
    "\n",
    "chapters_HMI = ['Use Case', 'Description', 'Goal', 'Context', 'Scope', 'Actors', 'Triggers', 'Preconditions', 'Main Scenario', 'Postconditions', 'Requirements', 'Alternative Scenario', 'Components', 'Function logic',]\n",
    "chapters_HMI_weights = {'Use Case': 0, 'Description': 0, 'Goal': 0.5, 'Context': 0, 'Scope': 0, 'Actors': 0, 'Triggers': 0, 'Preconditions': 0, 'Main Scenario': 1.8, 'Postconditions': 0, 'Requirements': 1.0, 'Alternative Scenario': 0.5, 'Components': 0, 'Function logic': 0,} \n",
    "\n",
    "# Те разделы которые дают значимость при сопоставлении требований\n",
    "important_chapters_HMI = [k for k in chapters_HMI_weights if chapters_HMI_weights[k] > 0]\n",
    "# len(important_chapters_HMI)\n",
    "\n",
    "# preproc_doc = PreProcessingDoc(embedding_model)\n",
    "# doc_HMI_parts = get_similary_by_doc(model=model, parag_text=parag_text_HMI, chapters=chapters_HMI, threshold=0.9)\n",
    "# doc_SSTS_parts = get_similary_by_doc(model=model, parag_text=parag_text_SSTS, chapters=chapters_SSTS, threshold=0.9)\n",
    "\n",
    "#  parag_text_HMI - массив параграфов всего текста ТЗ Закзчика HMI\n",
    "#  doc_HMI_parts - массив выделенных разделов ТЗ Закзчика HMI\n",
    "#  parag_text_SSTS - массив параграфов всего текста предложений Исполнителя SSTS\n",
    "#  doc_SSTS_parts - массив выделенных разделов предложений Исполнителя SSTS\n"
   ]
  },
  {
   "cell_type": "code",
   "execution_count": 309,
   "id": "bce55395-1fe9-4b64-a7c1-053dea3a65fe",
   "metadata": {},
   "outputs": [],
   "source": [
    "# LLM подключаем\n",
    "SYSTEM_PROMPT = \"\"\"\n",
    "You are a language model tasked with evaluating how closely a technical specifications (SSTS) aligns with an requirements document (UC). The input format is: \n",
    "\n",
    "UC: {scenario requirements content} \n",
    "\n",
    "SSTS: {technical specifications for implementation}\n",
    "\n",
    "Definitions:\n",
    "\n",
    "    UC represents the requirements document, detailing the scenario requirements for system interface functionality, including preconditions, main scenarios, postconditions, and alternative scenarios.\n",
    "    SSTS represents a technical document outlining functionality in a structured textual description.\n",
    "    \n",
    "Your task is to compare SSTS against the requirements in UC and assess the compliance based on the following criteria. Provide your response *only* in the specified dictionary format, with no introductory or closing text, using these keys:\n",
    "\n",
    "    Differences: Highlight the key mismatches or omissions in SSTS relative to UC. Focus on:\n",
    "        Missing or divergent output devices.\n",
    "        Deviations in user interaction elements, such as control methods.\n",
    "        Absence of specific functional details such as status display or audio handling requirements.\n",
    "\n",
    "    Description: Provide a detailed description of missing or divergent requirements to clarify gaps in SSTS. Include key requirements from UC to emphasize the context of the noted differences.\n",
    "\n",
    "    Compliance Level: Indicate the compliance level of SSTS with UC using two capital letters from this scale:\n",
    "        FC - Fully Compliant (FC) - The document fully matches all functional requirements in UC with no missing elements.\n",
    "        LC - Largely Compliant (LC) - The document meets most requirements in UC, with minor deviations noted.\n",
    "        PC - Partially Compliant (PC) - Some requirements are met, but notable gaps exist that require revisions for alignment.\n",
    "        NC - Non-compliant (NC) - Significant differences exist, and the document does not meet the specified requirements. A complete revision is needed.\n",
    "        NA - Not Applicable (NA) - The requirements and document are not comparable due to differences in purpose or scope. Explain the reason.\n",
    "    \n",
    "    Compliance Rate: Indicate the compliance rate of SSTS with UC compliance percentage from 0 to 100.\n",
    "\n",
    "Return your response *only* in the following dictionary format, with no additional text:\n",
    "\n",
    "```{\n",
    "    \"Differences\": \"Summary of key differences here\",\n",
    "    \"Description\": \"UC - Key requirements from the interface scenario, SSTS - Description of corresponding content in the technical document\",\n",
    "    \"Compliance Level\": \"FC, LC, PC, NC, or NA\"},\n",
    "    \"Compliance Rate\": 55\n",
    "}```\n",
    "\n",
    "Example format:\n",
    "\n",
    "```{\n",
    "    \"Differences\": \"Summary of key differences between SSTS and UC\",\n",
    "    \"Description\": \"UC - Key requirements missing from the technical document, SSTS - Relevant technical document details\",\n",
    "    \"Compliance Level\": \"FC\",\n",
    "    \"Compliance Rate\": 95\n",
    "}```\n",
    "\"\"\"\n",
    "\n",
    "\n",
    "\n",
    "# model_path = \"llama-3.2-3b-instruct-q8_0.gguf\" # путь к модели\n",
    "model_path = \"ggml-model-Q4_K_M.gguf\"\n",
    "\n",
    "model = Llama(\n",
    "        model_path=model_path,\n",
    "        n_ctx=8000,\n",
    "        n_gpu_layers=-1,\n",
    "        n_parts=1,\n",
    "        verbose=False,\n",
    "    )\n",
    "#  функция для инференса\n",
    "def interact(\n",
    "    user_message,\n",
    "    top_k=30,\n",
    "    top_p=0.9,\n",
    "    temperature=0.1, # регулирует на сколько модель лаконично отвечает\n",
    "    repeat_penalty=1.1\n",
    "    \n",
    "):\n",
    "\n",
    "    messages = [{\"role\": \"system\", \"content\": SYSTEM_PROMPT}]\n",
    "    messages.append({\"role\": \"user\", \"content\": user_message})\n",
    "    result = []\n",
    "    for part in model.create_chat_completion(\n",
    "            messages,\n",
    "            temperature=temperature,\n",
    "            top_k=top_k,\n",
    "            top_p=top_p,\n",
    "            repeat_penalty=repeat_penalty,\n",
    "            stream=True,\n",
    "        ):\n",
    "            delta = part[\"choices\"][0][\"delta\"]\n",
    "            if \"content\" in delta:\n",
    "                result.append(delta[\"content\"])\n",
    "                \n",
    "    return ''.join(result).strip()\n",
    "# interact(model_path)"
   ]
  },
  {
   "cell_type": "code",
   "execution_count": 310,
   "id": "adfea4c8-c999-48a8-824f-345100db0b0e",
   "metadata": {},
   "outputs": [],
   "source": [
    "def compare_chapter_by_specific(chapt_text:str, full_text_SSTS:str):\n",
    "    while True:  #Цикл до успешного выполнения заданного выхода модели\n",
    "        res = interact(f'text1: {chapt_text}\\n\\n\\ntext2: {full_text_SSTS}')\n",
    "        try:\n",
    "            res = re.sub(r'\\s+', ' ', res).replace('```','')\n",
    "            res = ast.literal_eval(res)\n",
    "            break  # Если всё прошло успешно, выходим из цикла\n",
    "        except Exception as e:\n",
    "            print()\n",
    "            print(f\"Не получилось сразу обработать, пробуем еещ раз: {e}\")\n",
    "            print(res)\n",
    "            print()\n",
    "    return res"
   ]
  },
  {
   "cell_type": "code",
   "execution_count": null,
   "id": "0db4e636-0bd2-4d1e-8d99-83f3356a2766",
   "metadata": {},
   "outputs": [],
   "source": [
    "from sklearn.metrics import mean_squared_error\n",
    "def calc_score(gt, sub):\n",
    "  sub = sub.drop_duplicates(subset='Number', keep='last')\n",
    "\n",
    "  mapping = {'FC': 1, 'LC': 2, 'PC': 3, 'NC': 4, 'NA': 5}\n",
    "  gt['категории_числа'] = gt['Complience Level'].map(mapping)\n",
    "  sub['категории_числа'] = sub['Complience Level'].map(mapping)\n",
    "\n",
    "\n",
    "  merge_df = pd.merge(gt, sub, on='Number', how='left')\n",
    "  merge_df['категории_числа_y'] = merge_df['категории_числа_y'].fillna(mapping['NA'])\n",
    "  mse = mean_squared_error(merge_df['категории_числа_x'], merge_df['категории_числа_y'])\n",
    "\n",
    "  score = max(0, 1.5-mse)/1.5\n",
    "  print(f'mse: {mse}')\n",
    "  print(f'score: {score}')\n",
    "    \n",
    "  return score\n"
   ]
  },
  {
   "cell_type": "code",
   "execution_count": 314,
   "id": "9b2898e9-2919-40d4-ba7f-b8590585b631",
   "metadata": {
    "scrolled": true
   },
   "outputs": [
    {
     "data": {
      "application/vnd.jupyter.widget-view+json": {
       "model_id": "274d9fe82f284614a39b8dec6a32f374",
       "version_major": 2,
       "version_minor": 0
      },
      "text/plain": [
       "  0%|          | 0/12 [00:00<?, ?it/s]"
      ]
     },
     "metadata": {},
     "output_type": "display_data"
    },
    {
     "name": "stdout",
     "output_type": "stream",
     "text": [
      "./datasets/train Atom/train data/HMI\\UC-11467.docx\n",
      "\n",
      "Не получилось сразу обработать, пробуем еещ раз: invalid syntax (<unknown>, line 1)\n",
      "Here is the evaluation: {\"Differences\": \"No specific differences found in this section.\", \"Description\": \"\", \"Compliance Level\": \"FC\", \"Compliance Rate\": 100}  The provided text1 and text2 describe the technical specifications for revoking access to a vehicle and remotely controlling digital keys (DK) respectively. Text1 provides clear requirements for revoking access from drivers/passengers, with specific steps outlined in the main scenario and alternative scenarios. The rights given settings are saved in the user profile and all accesses previously generated by this profile are also deleted if applicable. Text2 provides technical specifications for remotely controlling DK deletion through the ATOM app. It includes enabling conditions, trigger conditions, execution output, basic event flow, and optional event flow. There are no specific differences found between these texts, indicating that they align perfectly with each other in terms of requirements and implementation details.\n",
      "\n",
      "\n",
      "Не получилось сразу обработать, пробуем еещ раз: invalid syntax (<unknown>, line 1)\n",
      "Here is the evaluation of the technical specifications (SSTS) against the requirements document (UC):  {\"Differences\": \"The SSTS focuses on digital key deletion, whereas UC revolves around revoking access to a vehicle. Missing details in SSTS include specific user interaction elements and functional requirements.\", \"Description\": \"UC - Enable the Owner to quickly revoke access from other drivers/profiles to the vehicle through the ATOM application. SSTS - No mention of user interaction or functionality for revoking access, focusing solely on digital key deletion. UC - The system displayed the list with active drivers/passengers; SSTS - No details about displaying a list of digital keys. \", \"Compliance Level\": \"NC\", \"Compliance Rate\": 20} \n",
      "\n"
     ]
    },
    {
     "data": {
      "application/vnd.jupyter.widget-view+json": {
       "model_id": "368d8f63f29e42719d3482bc18475f80",
       "version_major": 2,
       "version_minor": 0
      },
      "text/plain": [
       "  0%|          | 0/5 [00:00<?, ?it/s]"
      ]
     },
     "metadata": {},
     "output_type": "display_data"
    },
    {
     "name": "stdout",
     "output_type": "stream",
     "text": [
      "Goal\n",
      "Goal:\n",
      " Enable the Owner to quickly revoke access from other drivers/profiles to the vehicle through the ATOM application.\n",
      "\n",
      "Не получилось сразу обработать, пробуем еещ раз: unterminated string literal (detected at line 1) (<unknown>, line 1)\n",
      "{\"Differences\": \"Summary of key differences between SSTS and UC\", \"Description\": \"UC - Key requirements from the interface scenario, SSTS - Description of corresponding content in the technical document\", \"Compliance Level\": \"LC\", \"Compliance Rate\": 80} Differences: - Absence of specific functional details such as status display or audio handling requirements. Description: The UC describes a specific goal and conditions for revoking access to the vehicle through the ATOM application. In contrast, SSTS focuses on the technical flow of events related to remote DK deletion, without explicitly mentioning the owner's ability to quickly revoke access or providing detailed functional requirements such as status display or audio handling. Compliance Level: The compliance level is LC (Largely Compliant) because the document generally meets the conditions and triggers described in UC, but lacks specific details on functional requirements.\n",
      "\n",
      "Preconditions\n",
      "Preconditions:\n",
      " Alice - the owner or the driver with to grant access to the car\n",
      " Alice decides to revoke previously granted access.\n",
      "Main Scenario\n",
      "Main Scenario:\n",
      " Alice opens the ATOM application on his in_5. Smart phone and goes to the section “Access Management”\n",
      " The system displayed the list with active drivers/passengers\n",
      " The owner selects the \"Revoke access\" option for delete the specific profile.\n",
      " When connecting to the car via the application, the access recorded on it is automatically deleted.\n",
      " All accesses previously generated by this profile are also deleted. (if applicable)\n",
      " Rights were given, settings are saved in the user profile\n",
      "Alternative Scenario\n",
      "Alternative scenario:\n",
      " In case the car does not have a direct connection with the application, the owner can issue a command to remove access.\n",
      " Access will be removed the next time the car connects to the internet.\n",
      " If the vehicle is in motion, access will be announced after the vehicle stops(parking mode).\n",
      "Postconditions\n",
      "Postconditions:\n",
      " Access has been successfully revoked\n",
      " All profile-related access is also removed, ensuring security.\n",
      " A push notification appears on the mobile screen informing the owner that the vehicle user's access was revoked successfully. It can be closed manually or automatically after 5 seconds.\n",
      "./datasets/train Atom/train data/HMI\\UC-25957.docx\n"
     ]
    },
    {
     "data": {
      "application/vnd.jupyter.widget-view+json": {
       "model_id": "92cd832ac5a84e5fa744b88a9c5f23b8",
       "version_major": 2,
       "version_minor": 0
      },
      "text/plain": [
       "  0%|          | 0/3 [00:00<?, ?it/s]"
      ]
     },
     "metadata": {},
     "output_type": "display_data"
    },
    {
     "name": "stdout",
     "output_type": "stream",
     "text": [
      "Preconditions\n",
      "Preconditions:\n",
      " User is playing FM Radio\n",
      "Main Scenario\n",
      "Main Scenario:\n",
      " ​​​User clicks on Mute/Unmute button via in_2/in_5\n",
      " FM Radio sound output is Muted/Unmuted\n",
      "Postconditions\n",
      "Postconditions:\n",
      " The user Mutes/Unmutes the FM Radio playback\n",
      " Goal: \"Users are able to mute/unmute the FM Radio playback\"\n",
      "./datasets/train Atom/train data/HMI\\UC-26160.docx\n",
      "./datasets/train Atom/train data/HMI\\UC-26161.docx\n"
     ]
    },
    {
     "data": {
      "application/vnd.jupyter.widget-view+json": {
       "model_id": "ca3eb2d779444289a70c5b19be258d94",
       "version_major": 2,
       "version_minor": 0
      },
      "text/plain": [
       "  0%|          | 0/4 [00:00<?, ?it/s]"
      ]
     },
     "metadata": {},
     "output_type": "display_data"
    },
    {
     "name": "stdout",
     "output_type": "stream",
     "text": [
      "Preconditions\n",
      "Preconditions:\n",
      " User has selected FM Radio playback\n",
      " Smartphone in_5 Bluetooth switched on\n",
      " Smartphone in_5 paired with Vehicle\n",
      "Main Scenario\n",
      "Main Scenario:\n",
      " User presses the forward/backward button via in_2/in_5/in_10\n",
      " IVI switches the next/previous FM Radio station in the list\n",
      "Postconditions\n",
      "Postconditions:\n",
      " out_5/out_2 shows the station information\n",
      " 24.1 All Multimedia Sounds. Speaker plays the new station output\n",
      "\n",
      "Не получилось сразу обработать, пробуем еещ раз: invalid syntax (<unknown>, line 1)\n",
      "Here is the evaluation of the technical specifications (SSTS) against the requirements document (UC):  {\"Differences\": \"The SSTS does not mention the postconditions specified in UC, such as showing station information on out_5/out_2. Additionally, the SSTS does not cover audio handling requirements like muting the radio during the search process.\", \"Description\": \"UC - The radio station is muted during the search process. The frequency band is switched and the automatic search stops. If no valid radio station is found, continue the automatic search until other action buttons are pressed. SSTS - No relevant technical document details mentioned\", \"Compliance Level\": \"PC\", \"Compliance Rate\": 60}  In this evaluation, the technical specifications (SSTS) partially comply with the requirements in UC due to some key mismatches and omissions. The SSTS does not cover the postconditions specified in UC, nor does it mention audio handling requirements like muting the radio during the search process. This partial compliance is reflected in a 60% compliance rate.\n",
      "\n",
      "\n",
      "Не получилось сразу обработать, пробуем еещ раз: invalid syntax. Perhaps you forgot a comma? (<unknown>, line 1)\n",
      " {\"Differences\": \"The SSTS lacks specific details about the user interaction elements, such as control methods and audio handling requirements. It also omits mention of output devices like speakers.\", \"Description\": \"UC - User plays radio and uses voice to search for radio stations (specific corpus defined by ATOM design team). SSTS - Missing information on voice-controlled radio station search. UC - The user plays the radio and clicks Switches \"Previous\" / \"Next\" hard keys. SSTS - No mention of hard key control method.\", \"Compliance Level\": \"PC\", \"Compliance Rate\": 60} \n",
      "\n",
      "Requirements\n",
      "Requirenments:\n",
      " The action is displayed on the touchpoint from which this action is performed\n",
      "./datasets/train Atom/train data/HMI\\UC-26771.docx\n"
     ]
    },
    {
     "data": {
      "application/vnd.jupyter.widget-view+json": {
       "model_id": "e71c229e180f478da274fab5184a7101",
       "version_major": 2,
       "version_minor": 0
      },
      "text/plain": [
       "  0%|          | 0/7 [00:00<?, ?it/s]"
      ]
     },
     "metadata": {},
     "output_type": "display_data"
    },
    {
     "name": "stdout",
     "output_type": "stream",
     "text": [
      "Goal\n",
      "Goal:\n",
      " Users can turn on or off the vehicle hotspot according to their needs via the VA.\n",
      "Preconditions\n",
      "Precondition:\n",
      " IVI system startup out_2 SWP Android.\n",
      "Main Scenario\n",
      "Main scenario:\n",
      " The user asks in_24 Voice. Microphone to turn on the hotspot.\n",
      " The out_2 SWP Android activates the Hotspot.\n",
      " VA will inform the user about the activation out_24 Voice. Dynamic.\n",
      " out_2 SWP Android shows notification with button \"Show Hotspot Settings\". By сlicking in_2 SWP Android on \"Show Hotspot Settings\" the access point settings section for the user will open (The notification will automatically disappear in 5 seconds without clicking the button).\n",
      "Postconditions\n",
      "Postcondition:\n",
      " When the user turns on the hotspot switch, the hotspot will be on out_2 SWP Android.\n",
      " The user can connect the network from the vehicle via in_5. smartphone WIFI connection function by inputting the hotspot password.\n",
      " Alternative Scenario A (Turn off the hotspot):\n",
      " The user asks in_24 Voice. Microphone to turn off the hotspot.\n",
      " The out_2 SWP Android deactivates the Hotspot.\n",
      " VA will inform the user about the deactivation out_24 Voice. Dynamic.\n",
      " The devices will disconnect to the hotspot out_5 Smartphone.\n",
      "Requirements\n",
      "Requirements:\n",
      " The hotspot switch, name, password are the same level menu.\n",
      " The hotspot is turned off by default on every power-on.\n",
      " If no devices connect after the Hotspot turn on within 10 mins, it will automatically turn off.\n",
      "./datasets/train Atom/train data/HMI\\UC-28561.docx\n"
     ]
    },
    {
     "data": {
      "application/vnd.jupyter.widget-view+json": {
       "model_id": "69fea39a295a4f2daa17a306b55de95e",
       "version_major": 2,
       "version_minor": 0
      },
      "text/plain": [
       "  0%|          | 0/7 [00:00<?, ?it/s]"
      ]
     },
     "metadata": {},
     "output_type": "display_data"
    },
    {
     "name": "stdout",
     "output_type": "stream",
     "text": [
      "Goal\n",
      "Goal:\n",
      " Users can modify the name and password of the vehicle hotspot according to their needs.\n",
      "Preconditions\n",
      "Precondition:\n",
      " IVI system startup out_2 SWP Android.\n",
      "\n",
      "Не получилось сразу обработать, пробуем еещ раз: invalid syntax. Perhaps you forgot a comma? (<unknown>, line 1)\n",
      "{\"Differences\": \"The SSTS does not mention the specific character limit and special characters allowed in the hotspot name, which is mentioned in the UC.\", \"Description\": \"UC - Minimum character limit: at least one character; The hotspot name can be a combination of Russian, English, and numbers. No special characters or symbols (except regular English and Russian characters, as well as \"_\") are supported; SSTS - No mention of these specific details\", \"Compliance Level\": \"PC\", \"Compliance Rate\": 80}\n",
      "\n",
      "Main Scenario\n",
      "Main Scenario:\n",
      " The user guides to the hotspot page out_2. SWP Android.\n",
      " Click in_2. SWP Android the hotspot name or password to enter the modification page.\n",
      " The user modifies the name or password and clicks 'save' in_2. SWP Android.\n",
      "Postconditions\n",
      "Postcondition:\n",
      " The hotspot name or password will be modified successfully.\n",
      "Requirements\n",
      "Requirements:\n",
      " The hotspot name and password will be saved in the vehicle profile.\n",
      " After changing the password, the previous device needs to enter the new password to reconnect.\n",
      "./datasets/train Atom/train data/HMI\\UC-30371.docx\n"
     ]
    },
    {
     "data": {
      "application/vnd.jupyter.widget-view+json": {
       "model_id": "01d48b9cca5042d7bfa948f83318a2d9",
       "version_major": 2,
       "version_minor": 0
      },
      "text/plain": [
       "  0%|          | 0/3 [00:00<?, ?it/s]"
      ]
     },
     "metadata": {},
     "output_type": "display_data"
    },
    {
     "name": "stdout",
     "output_type": "stream",
     "text": [
      "./datasets/train Atom/train data/HMI\\UC-31523.docx\n"
     ]
    },
    {
     "data": {
      "application/vnd.jupyter.widget-view+json": {
       "model_id": "c9b8c2be774e4abfaea8e9821c95f13f",
       "version_major": 2,
       "version_minor": 0
      },
      "text/plain": [
       "  0%|          | 0/6 [00:00<?, ?it/s]"
      ]
     },
     "metadata": {},
     "output_type": "display_data"
    },
    {
     "name": "stdout",
     "output_type": "stream",
     "text": [
      "Preconditions\n",
      "Preconditions:\n",
      " User in in the Internet Radio list\n",
      "Triggers\n",
      "Triggers:\n",
      " User selects to add the Radio via in_2/in_5\n",
      "Main Scenario\n",
      "Main Scenario:\n",
      " The user press on the UI interface \"Add to Favorites\" icon\n",
      "Postconditions\n",
      "Postconditions:\n",
      " The selected internet radio station is added to the user's personalized favorites list.\n",
      "Requirements\n",
      "Requirenments:\n",
      " User must be able to navigate to the Favourite list from Internet Radio interface\n",
      " User must be able to 'Remove from favorites' the Internet Radio station by pressing the same interface icon\n",
      "./datasets/train Atom/train data/HMI\\UC-6583.docx\n"
     ]
    },
    {
     "data": {
      "application/vnd.jupyter.widget-view+json": {
       "model_id": "dee2be17bec54b22bc3cf8620893d4fa",
       "version_major": 2,
       "version_minor": 0
      },
      "text/plain": [
       "  0%|          | 0/6 [00:00<?, ?it/s]"
      ]
     },
     "metadata": {},
     "output_type": "display_data"
    },
    {
     "name": "stdout",
     "output_type": "stream",
     "text": [
      "Preconditions\n",
      "Preconditions:\n",
      " The IVI is on in_2\n",
      " The vehicle can be shifted to any of the PRND drive modes.\n",
      " The driver's smartphone is connected to the vehicle's system via Bluetooth (in_32).[I-6323] Pairing a Mobile Phone\n",
      " The driver has granted necessary permissions for phone information, including contacts and recent calls[I-6326] Import data from mobile phone, SMS, and supported messenger apps on in_5.\n",
      "\n",
      "Не получилось сразу обработать, пробуем еещ раз: invalid syntax (<unknown>, line 1)\n",
      "Here is the evaluation:  {\"Differences\": \"The technical document SSTS does not mention the preconditions from UC, specifically mentioning the vehicle's drive modes, smartphone connection via Bluetooth, and granted permissions for phone information. Additionally, SSTS lacks descriptions of specific functional details such as status display, tone mode input during calls, and roadside assistance hotline number storage.\", \"Description\": \"UC - The IVI system must be on, the vehicle can shift to any PRND drive modes, the driver's smartphone is connected via Bluetooth with granted permissions for phone information; SSTS - Technical document does not provide this information\", \"Compliance Level\": \"PC\", \"Compliance Rate\": 65} \n",
      "\n",
      "Main Scenario\n",
      "Main Scenario:\n",
      " The driver navigates to the 'Calls' option on the SWP Android (out_2), displaying the most recent calls.\n",
      " The driver initiates a call by selecting a number from the recent calls list.\n",
      " The interior ambient light (out_12) changes color [blue, static display] to signal the outgoing call.\n",
      " The call status is displayed on the HUD (out_3) and SWP Android (out_2).\n",
      " The vehicle's microphone (in_24) and speakers (out_24) are used for the call.\n",
      "Postconditions\n",
      "Postconditions:\n",
      " If the call is initiated successfully, the SWP Android (out_2) displays an active call interface.\n",
      " The driver is able to use the hands-free phone functionality on the SWP Android (out_2).\n",
      "Alternative Scenario\n",
      "Alternative Scenario A:\n",
      " The driver activates the voice assistant (in_24) and instructs it to place a call to a contact from the contact list in a supported messenger or a specific number.\n",
      " By default without the driver specifying which messenger to call through, the call is placed via the phone. If there is no name in the contact list of the messenger, the voice assistant says that to the driver and suggests placing a call via the phone.\n",
      " The rest of the steps follow as in the main scenario.\n",
      "Alternative Scenario\n",
      "Alternative Scenario B:\n",
      " The driver navigates to the 'Calls' option on the SWP Android (out_2). If the recent calls list is empty, a message stating \"No Recent Calls\" is displayed.\n",
      " The rest of the steps follow as in the main scenario.\n",
      "Alternative Scenario\n",
      "Alternative Scenario C:\n",
      " If GSM network is not available, an error message will be shown on out_2, prompting to recall.\n",
      "\n",
      "Не получилось сразу обработать, пробуем еещ раз: invalid syntax (<unknown>, line 1)\n",
      "Here is the evaluation of SSTS against UC: {\"Differences\": \"The technical document lacks specific details on how to handle GSM network unavailability, as mentioned in Alternative Scenario C. Additionally, it does not clarify if IVI will display a prompt when Bluetooth connection is lost.\", \"Description\": \"UC - In Alternative Scenario C, an error message should be displayed on out_2 prompting the user to recall when GSM network is unavailable. SSTS - There is no mention of how to handle this scenario in the technical document.\", \"Compliance Level\": \"PC\", \"Compliance Rate\": 80}\n",
      "\n",
      "./datasets/train Atom/train data/HMI\\UC-8604.docx\n"
     ]
    },
    {
     "data": {
      "application/vnd.jupyter.widget-view+json": {
       "model_id": "14f27e6a7b1a4007a97d448cd642d075",
       "version_major": 2,
       "version_minor": 0
      },
      "text/plain": [
       "  0%|          | 0/4 [00:00<?, ?it/s]"
      ]
     },
     "metadata": {},
     "output_type": "display_data"
    },
    {
     "name": "stdout",
     "output_type": "stream",
     "text": [
      "Preconditions\n",
      "Preconditions:\n",
      " ATOM is on\n",
      " in_5. Smartphone is paired with the car\n",
      "Main Scenario\n",
      "Main Scenario:\n",
      " User selects the \"Multimedia\" via in_5 or in_2/\n",
      " out_2/out_5 displays the available audio sources:\n",
      " Internet Radio\n",
      " FM Radio\n",
      " USB\n",
      " Internal SD card\n",
      " Bluetooth\n",
      "Postconditions\n",
      "Postconditions:\n",
      " out_2/out_5 shows available media sources\n",
      "Requirements\n",
      "Requirements:\n",
      " The action is displayed on the touchpoint from which this action is performed\n",
      "./datasets/train Atom/train data/HMI\\UC-8692.docx\n"
     ]
    },
    {
     "data": {
      "application/vnd.jupyter.widget-view+json": {
       "model_id": "69e52312df6741a3a06ca954c929d280",
       "version_major": 2,
       "version_minor": 0
      },
      "text/plain": [
       "  0%|          | 0/5 [00:00<?, ?it/s]"
      ]
     },
     "metadata": {},
     "output_type": "display_data"
    },
    {
     "name": "stdout",
     "output_type": "stream",
     "text": [
      "Preconditions\n",
      "Preconditions:\n",
      " The vehicle is in the Drive State (PRND)\n",
      " The vehicle is capable of communicating with emergency services (ERA-Glonass functional).\n",
      " The vehicle is involved in or witnesses an emergency, such as a collision or a medical issue, necessitating communication with emergency services.\n",
      "Triggers\n",
      "Trigger:\n",
      " The vehicle sensors detect a collision and activate the emergency communication feature.\n",
      " The driver manually presses in_19. SOS button (roof console)activate the emergency communication feature.\n",
      "Main Scenario\n",
      "Main Scenario:\n",
      " The ERA-Glonass initiates emergency service communication.\n",
      " During the emergency call, the safety audio system automatically mutes or lowers the volume of other audio sources within the vehicle, such as the radio, navigation prompts, or entertainment systems.\n",
      " The public safety answering point (PSAP) receives critical information about the situation, location, and the nature of the emergency from the In-vehicle system and occupants' answers.\n",
      " The communication continues until the PSAP determines that it is safe to end the call or until the situation is resolved.\n",
      " Once the emergency communication ends, the safety audio system restores the audio sources to their previous settings, or the driver can manually unmute the audio via in_2.\n",
      "Postconditions\n",
      "Postconditions：\n",
      " The driver is able to communicate with the emergency services via ERA-Glonass.\n",
      "Alternative Scenario\n",
      "Alternative Scenarios:\n",
      " A. ERA-Glonass Malfunction\n",
      " There is a notification display on out_2, out_5 when the ERA-GLONASS has an error.\n",
      " If ERA can not be activated, the driver or passengers may need to use personal mobile devices in_5.Smartphone or other means to contact emergency services.\n",
      " If the driver does not respond to the emergency service communication attempts due to system malfunction or physical reasons, ERA will still attempt the call and locate the vehicle, lights on out_19. SOS button (roof console) and 16. Turn lamps (right & left) \\ Warning at the same time.\n",
      "./datasets/train Atom/train data/HMI\\UC-8800.docx\n"
     ]
    },
    {
     "data": {
      "application/vnd.jupyter.widget-view+json": {
       "model_id": "afc175d27e804a8d980cd14f2b029bf6",
       "version_major": 2,
       "version_minor": 0
      },
      "text/plain": [
       "  0%|          | 0/5 [00:00<?, ?it/s]"
      ]
     },
     "metadata": {},
     "output_type": "display_data"
    },
    {
     "name": "stdout",
     "output_type": "stream",
     "text": [
      "Preconditions\n",
      "\n",
      "Postconditions\n",
      "Preconditions\n",
      " Entertainment system is ready. in_2\n",
      " The driver's smartphone is connected to the vehicle's system via Bluetooth (in_32)[I-6323] Pairing a Mobile Phone.\n",
      "Main Scenario\n",
      "Main Scenario:\n",
      " An incoming call is received on the driver's phone (in_5).\n",
      " The caller's information (name from the contact list or phone number) is displayed on the SWP Android (out_2).\n",
      " The interior ambient light (out_12) changes color to signal the incoming call.\n",
      " An incoming call sound is played through the vehicle's speakers (out_24).\n",
      " The driver can accept or reject the call using the front buttons on the steering wheel (in_10) or via the voice assistant command (in_24).\n",
      "Postconditions\n",
      "Postconditions:\n",
      " If the call is accepted, the interior ambient light changes color, the call status is displayed on the HUD and SWP Android, and the vehicle's microphone (in_24) and speakers out_24 are used for the call.\n",
      " If the call is rejected, the interior ambient light returns to its original color, the call notification is removed from the HUD and SWP Android, and a call rejection sound is played via out_24.\n",
      "Alternative Scenario\n",
      "Alternative Scenario:\n",
      " If the caller's number is not saved in the smartphone's contacts, the HUD and SWP Android display the phone number or \"Unknown\" if the number is hidden.\n",
      " If the music is played on IVI via out_24, then the music gets quieter to allow the incoming call sound to be heard at a comfortable level.\n",
      "CPU times: total: 6h 48min 26s\n",
      "Wall time: 1h 4min 9s\n"
     ]
    }
   ],
   "source": [
    "%%time\n",
    "# Общий цикл по обработке документов\n",
    "# compliance_levels = {}\n",
    "result_submit = []\n",
    "all_doc_df = pd.DataFrame()\n",
    "\n",
    "# Основной цикл по прохождению всех документов ТЗ HMI\n",
    "for hmi_filename in tqdm(hmi_files):\n",
    "    submit_docs_dict = {}\n",
    "    print(hmi_filename)\n",
    "    \n",
    "    number_hmi = os.path.basename(hmi_filename).split('-')[-1].split('.')[0]\n",
    "    \n",
    "    \n",
    "    # Читаем *.doc документы\n",
    "    doc_HMI = docx.Document(hmi_filename)\n",
    "    parag_text_HMI = get_texts(doc_HMI)\n",
    "    text_number, title = re.findall(r\"(\\[.*?\\])\\s+(.*?)$\", parag_text_HMI[0])[0]\n",
    "    # Определяем заголовок из ТЗ\n",
    "    title = title.strip()\n",
    "    # compliance_levels[number_hmi] = {'Number':number_hmi, 'Name':title}\n",
    "    submit_docs_dict['Number'] = number_hmi\n",
    "    submit_docs_dict['Name'] = title\n",
    "    \n",
    "    if number_hmi not in ssts_filenumbers:\n",
    "        submit_docs_dict['Description'] = '-'\n",
    "        submit_docs_dict['Differences'] = \"ssts hasn't info about this\"\n",
    "        # submit_docs_dict['Compliance Level'] = 'NA'\n",
    "        submit_docs_dict['average_compliance_rate'] = 0\n",
    "        result_submit.append(submit_docs_dict)\n",
    "        continue\n",
    "   \n",
    "    # Считываем SSTS файл \n",
    "    ssts_filename = ssts_files[ssts_filenumbers.index(number_hmi)]\n",
    "    # Читаем *.doc документы\n",
    "    doc_SSTS = docx.Document(ssts_filename)\n",
    "    parag_text_SSTS = get_texts(doc_SSTS)\n",
    "    \n",
    "    # Определяем разделы документов\n",
    "    doc_HMI_parts = get_similary_by_doc(model=embedding_model, parag_text=parag_text_HMI, chapters=chapters_HMI, threshold=0.9)\n",
    "    doc_SSTS_parts = get_similary_by_doc(model=embedding_model, parag_text=parag_text_SSTS, chapters=chapters_SSTS, threshold=0.9)\n",
    "    \n",
    "    #  parag_text_HMI - массив параграфов всего текста ТЗ Закзчика HMI\n",
    "    #  doc_HMI_parts - массив выделенных разделов ТЗ Закзчика HMI\n",
    "    #  parag_text_SSTS - массив параграфов всего текста предложений Исполнителя SSTS\n",
    "    #  doc_SSTS_parts - массив выделенных разделов предложений Исполнителя SSTS\n",
    "\n",
    "    # summarize_response = summarize_text(text=full_text, llm_model=llm_model)\n",
    "    # compliance_levels['Description'] = summarize_response['choices'][0]['text'].strip()\n",
    "    # compliance_levels['Description'] = # Вызов суммаризатора текста\n",
    "    # compliance_levels['Differences'] = # Вызов определения разнцы текста\n",
    "    # compliance_levels['Compliance Level'] = # Вызов определения уровня оценки\n",
    "\n",
    "\n",
    "    # Формирвем предсказание по всему документу\n",
    "    full_text_SSTS = '\\n '.join(parag_text_SSTS)\n",
    "    full_text_HMI = '\\n '.join(parag_text_HMI)\n",
    "    \n",
    "    result_by_chapt = {}\n",
    "    \n",
    "    res_all_doc = compare_chapter_by_specific(full_text_HMI, full_text_SSTS)\n",
    "    res_all_doc['Weight'] = 2\n",
    "    result_by_chapt['All doc'] = res_all_doc\n",
    "    \n",
    "    # Формирвем предсказание по каждому блоку\n",
    "    for i in tqdm(doc_HMI_parts):\n",
    "        chapt_key = list(i.keys())[0]\n",
    "        chapt_text = '\\n '.join(list(i.values())[0])\n",
    "        # Если раздел относится к важным, тогда анализируем его отдельно\n",
    "        if chapt_key in important_chapters_HMI:\n",
    "            print(chapt_key)\n",
    "            print(chapt_text)\n",
    "            res = compare_chapter_by_specific(chapt_text, full_text_SSTS)\n",
    "            # compare_part_text_HMI = '\\n '.join(list(doc_HMI_parts[0].values())[0])\n",
    "            res['Weight'] = chapters_HMI_weights[chapt_key]\n",
    "            result_by_chapt[chapt_key] = res\n",
    "        # break    \n",
    "    # Формируем итоговый Датафрейм по документу\n",
    "    doc_df = pd.DataFrame.from_dict(result_by_chapt, orient='index')\n",
    "    # doc_df = doc_df.rename(columns={'weight':'Weight'})\n",
    "    doc_df['Number'] = number_hmi\n",
    "    doc_df['Name'] = title\n",
    "    all_doc_df = pd.concat([all_doc_df, doc_df])\n",
    "\n",
    "    # submit_docs_dict['Number'] = number_hmi\n",
    "    # submit_docs_dict['Name'] = title\n",
    "    submit_docs_dict['average_compliance_rate'] = np.average(doc_df['Compliance Rate'].values, weights=doc_df['Weight'].values)\n",
    "    submit_docs_dict['Differences'] = doc_df.loc['All doc']['Differences']\n",
    "    submit_docs_dict['Description'] = doc_df.loc['All doc']['Description']\n",
    "    result_submit.append(submit_docs_dict)\n",
    "    # break\n",
    "all_doc_df = all_doc_df.dropna()    "
   ]
  },
  {
   "cell_type": "code",
   "execution_count": 602,
   "id": "c3a60fc6-2677-4c1b-88e9-39949c56c8c7",
   "metadata": {},
   "outputs": [
    {
     "name": "stdout",
     "output_type": "stream",
     "text": [
      "mse: 0.6666666666666666\n",
      "score: 0.5555555555555556\n"
     ]
    },
    {
     "data": {
      "text/plain": [
       "0.5555555555555556"
      ]
     },
     "execution_count": 602,
     "metadata": {},
     "output_type": "execute_result"
    }
   ],
   "source": [
    "# all_doc_df[(all_doc_df['Number'] == number)&(all_doc_df.index.isin(['All doc', 'Goal', 'Main Scenario', 'Requirements', 'Alternative Scenario']))]\n",
    "tmp_all_doc_df = all_doc_df.copy()\n",
    "tmp_all_doc_df['Type'] = tmp_all_doc_df.index\n",
    "tmp_all_doc_df.loc[tmp_all_doc_df['Type'] == 'All doc', 'Weight'] = 1\n",
    "tmp_all_doc_df.loc[tmp_all_doc_df['Type'] == 'Goal', 'Weight'] = 0.5\n",
    "tmp_all_doc_df.loc[tmp_all_doc_df['Type'] == 'Preconditions', 'Weight'] = 0\n",
    "tmp_all_doc_df.loc[tmp_all_doc_df['Type'] == 'Main Scenario', 'Weight'] = 1.8 # 2\n",
    "tmp_all_doc_df.loc[tmp_all_doc_df['Type'] == 'Alternative Scenario', 'Weight'] = 0.5\n",
    "tmp_all_doc_df.loc[tmp_all_doc_df['Type'] == 'Postconditions', 'Weight'] = 0\n",
    "tmp_all_doc_df.loc[tmp_all_doc_df['Type'] == 'Requirements', 'Weight'] = 1 #2\n",
    "tmp_all_doc_df.loc[tmp_all_doc_df['Type'] == 'Triggers', 'Weight'] = 0\n",
    "# tmp_all_doc_df\n",
    "\n",
    "union_docs_dict = {}\n",
    "for number in tmp_all_doc_df['Number'].unique():\n",
    "    union_docs_dict[number] = {}\n",
    "    union_docs_dict[number]['Number'] = number\n",
    "    # union_docs_dict[number]['average_compliance_rate'] = tmp_all_doc_df[tmp_all_doc_df['Number'] == number]['Compliance Rate'].mean()\n",
    "    select_df = tmp_all_doc_df[(tmp_all_doc_df['Number'] == number)&(tmp_all_doc_df.index.isin(['All doc', 'Goal', 'Main Scenario', 'Requirements', 'Alternative Scenario']))]\n",
    "    # union_docs_dict[number]['average_compliance_rate'] = select_df['Compliance Rate'].mean()\n",
    "    union_docs_dict[number]['average_compliance_rate'] = np.average(select_df['Compliance Rate'].values, weights=select_df['Weight'].values)\n",
    "    # print(number)\n",
    "    # chapters_HMI_weights = {'Use Case': 0, 'Description': 0, 'Goal': 3.1, 'Context': 1.7, 'Scope': 0, 'Actors': 0, 'Triggers': 1.2, 'Preconditions': 1.3, 'Main Scenario': 3.1, 'Postconditions': 1.3, 'Requirements': 2.0, 'Alternative Scenario': 2.9, 'Components': 0, 'Function logic': 0,} \n",
    "    # break\n",
    "\n",
    "union_docs_df = pd.DataFrame().from_dict(union_docs_dict, orient='index')\n",
    "union_docs_df['Number'] = union_docs_df['Number'].astype(int)\n",
    "union_docs_df['Complience Level'] = np.where(union_docs_df['average_compliance_rate'] > 80, 'FC', \n",
    "        np.where(union_docs_df['average_compliance_rate'] > 70, 'LC', \n",
    "            np.where(union_docs_df['average_compliance_rate'] > 50, 'PC', \n",
    "                np.where(union_docs_df['average_compliance_rate'] > 30, 'NC', 'NA')\n",
    "            )\n",
    "        )\n",
    "    )\n",
    "# union_docs_df.info()\n",
    "calc_score(gt, union_docs_df)\n",
    "\n",
    "# all_doc_df = all_doc_df.dropna() "
   ]
  },
  {
   "cell_type": "code",
   "execution_count": null,
   "id": "b963d936-4ed9-43e6-beb2-bb2cbf34483b",
   "metadata": {},
   "outputs": [],
   "source": []
  },
  {
   "cell_type": "code",
   "execution_count": null,
   "id": "9bcd0525-a29f-4b7f-9213-f370bc023f0d",
   "metadata": {},
   "outputs": [],
   "source": []
  },
  {
   "cell_type": "code",
   "execution_count": null,
   "id": "3a289066-3839-4f01-b3a3-b2c1568ebeba",
   "metadata": {},
   "outputs": [],
   "source": []
  },
  {
   "cell_type": "code",
   "execution_count": null,
   "id": "55d7a1ad",
   "metadata": {},
   "outputs": [],
   "source": []
  },
  {
   "cell_type": "code",
   "execution_count": null,
   "id": "101e2831",
   "metadata": {},
   "outputs": [],
   "source": []
  }
 ],
 "metadata": {
  "kernelspec": {
   "display_name": "Python 3 (ipykernel)",
   "language": "python",
   "name": "python3"
  },
  "language_info": {
   "codemirror_mode": {
    "name": "ipython",
    "version": 3
   },
   "file_extension": ".py",
   "mimetype": "text/x-python",
   "name": "python",
   "nbconvert_exporter": "python",
   "pygments_lexer": "ipython3",
   "version": "3.10.14"
  }
 },
 "nbformat": 4,
 "nbformat_minor": 5
}
